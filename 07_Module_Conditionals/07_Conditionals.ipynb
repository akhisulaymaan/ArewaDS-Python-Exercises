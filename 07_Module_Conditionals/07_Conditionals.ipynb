{
 "cells": [
  {
   "cell_type": "markdown",
   "metadata": {},
   "source": [
    "# Conditionals \n",
    "\n",
    "## Exercises\n",
    "\n",
    "### Level 1"
   ]
  },
  {
   "cell_type": "code",
   "execution_count": 98,
   "metadata": {},
   "outputs": [
    {
     "name": "stdout",
     "output_type": "stream",
     "text": [
      "You are old enough to drive.\n"
     ]
    }
   ],
   "source": [
    "''' 1. Get user input using input(“Enter your age: ”). If user is 18 or older, give feedback: \n",
    "    You are old enough to drive. If below 18 give feedback to wait for the missing amount of years. Output:\n",
    "\n",
    "    Enter your age: 30\n",
    "    You are old enough to learn to drive.\n",
    "    Output:\n",
    "    Enter your age: 15\n",
    "    You need 3 more years to learn to drive.\n",
    "\n",
    "    '''\n",
    "\n",
    "user_age = int(input('Enter your age: '))\n",
    "num = 18\n",
    "\n",
    "if user_age >= num:\n",
    "    print('You are old enough to drive.')\n",
    "else:\n",
    "    under = int(num - user_age)\n",
    "    print('You need', under, 'more years to learn to drive')"
   ]
  },
  {
   "cell_type": "code",
   "execution_count": 99,
   "metadata": {},
   "outputs": [
    {
     "name": "stdout",
     "output_type": "stream",
     "text": [
      "I am older than you.\n"
     ]
    }
   ],
   "source": [
    "''' 2. Compare the values of my_age and your_age using if … else.\n",
    "Who is older (me or you)? Use input(“Enter your age: ”) to get the age as input. \n",
    "You can use a nested condition to print 'year' for 1 year difference in age, 'years' for bigger differences,\n",
    "and a custom text if my_age = your_age. \n",
    "Output:\n",
    "Enter your age: 30\n",
    "You are 5 years older than me.\n",
    "\n",
    "'''\n",
    "\n",
    "my_age = int(input('Enter your age: '))\n",
    "\n",
    "your_age = int(input('Enter your age: '))\n",
    "\n",
    "if my_age < your_age:\n",
    "    if your_age == my_age + 1:\n",
    "        print('You are 1 year older than me.')\n",
    "\n",
    "    elif your_age > my_age:\n",
    "        print('You are', your_age - my_age, 'years older than me.')\n",
    "\n",
    "    else:\n",
    "        print('Your age is equal to mine.')\n",
    "\n",
    "elif my_age == your_age:\n",
    "    print('Your age is equal to mine.')\n",
    "\n",
    "else:\n",
    "    print('I am older than you.')\n",
    "\n"
   ]
  },
  {
   "cell_type": "code",
   "execution_count": 100,
   "metadata": {},
   "outputs": [
    {
     "name": "stdout",
     "output_type": "stream",
     "text": [
      "36 is equal to 36\n"
     ]
    }
   ],
   "source": [
    "'''\n",
    "3. Get two numbers from the user using input prompt. If a is greater than b return a is greater than b, \n",
    "if a is less b return a is smaller than b, else a is equal to b. Output:\n",
    "\n",
    "Enter number one: 4\n",
    "Enter number two: 3\n",
    "4 is greater than 3\n",
    "\n",
    "'''\n",
    "\n",
    "a = int(input('Enter number one: '))\n",
    "\n",
    "b = int(input('Enter number two: '))\n",
    "\n",
    "if a > b:\n",
    "    print(a, 'is greater than', b)\n",
    "\n",
    "elif a < b:\n",
    "    print(a, 'is smaller than', b)\n",
    "\n",
    "else:\n",
    "    print(a, 'is equal to', b)\n"
   ]
  },
  {
   "cell_type": "markdown",
   "metadata": {},
   "source": [
    "# Conditionals \n",
    "\n",
    "## Exercises\n",
    "\n",
    "### Level 2"
   ]
  },
  {
   "cell_type": "code",
   "execution_count": 101,
   "metadata": {},
   "outputs": [
    {
     "name": "stdout",
     "output_type": "stream",
     "text": [
      "Your grade is F\n"
     ]
    }
   ],
   "source": [
    "''' \n",
    "1. Write a code which gives grade to students according to theirs scores:\n",
    "\n",
    "        80-100, A\n",
    "        70-89, B\n",
    "        60-69, C\n",
    "        50-59, D\n",
    "        0-49, F\n",
    "'''\n",
    "\n",
    "score = int(input('Enter your score: '))\n",
    "\n",
    "if score >= 80 and score < 101:\n",
    "        print('Your grade is A')\n",
    "elif score >= 70 and score < 80:\n",
    "        print('Your grade is B')\n",
    "elif score >= 60  and score < 70:\n",
    "        print('Your grade is C')\n",
    "elif score >= 50 and score < 60:\n",
    "        print('Your grade is D')\n",
    "else:\n",
    "        print('Your grade is F')\n",
    "    \n",
    "   "
   ]
  },
  {
   "cell_type": "code",
   "execution_count": 102,
   "metadata": {},
   "outputs": [
    {
     "name": "stdout",
     "output_type": "stream",
     "text": [
      "The input does not exist in nthe variable\n"
     ]
    }
   ],
   "source": [
    "''' \n",
    "2. Check if the season is Autumn, Winter, Spring or Summer. If the user input is:\n",
    "    September, October or November, the season is Autumn.\n",
    "    December, January or February, the season is Winter.\n",
    "    March, April or May, the season is Spring\n",
    "    June, July or August, the season is Summer \n",
    "'''\n",
    "from matplotlib.pyplot import winter\n",
    "\n",
    "\n",
    "Autumn = ['September', 'October', 'November']\n",
    "Winter = ['December', 'January', 'February']\n",
    "Spring = ['March', 'April', 'May']\n",
    "Summer = ['June', 'July', 'August']\n",
    "\n",
    "season = input('Enter the month: ').title()\n",
    "\n",
    "if season in Autumn:\n",
    "    print('The season is Autumn')\n",
    "\n",
    "elif season in Winter:\n",
    "    print('The season is Winter')\n",
    "\n",
    "elif season in Spring:\n",
    "    print('The season is Springs')\n",
    "\n",
    "elif season in Summer:\n",
    "    print('The season is Summer')\n",
    "\n",
    "else:\n",
    "    print('The input does not exist in nthe variable')"
   ]
  },
  {
   "cell_type": "code",
   "execution_count": 103,
   "metadata": {},
   "outputs": [
    {
     "name": "stdout",
     "output_type": "stream",
     "text": [
      "['banana', 'orange', 'mango', 'lemon', 'watermelon']\n"
     ]
    }
   ],
   "source": [
    "'''\n",
    "3. The following list contains some fruits:\n",
    "\n",
    "    fruits = ['banana', 'orange', 'mango', 'lemon']\n",
    "\n",
    "    If a fruit doesn't exist in the list add the fruit to the list and print the modified list. \n",
    "    If the fruit exists print('That fruit already exist in the list')\n",
    "    '''\n",
    "fruits = ['banana', 'orange', 'mango', 'lemon']\n",
    "fruits.append('watermelon')\n",
    "\n",
    "if 'watermelon' in fruits:\n",
    "    print(fruits)\n",
    "else:\n",
    "    print('That fruit already exist in the list')"
   ]
  },
  {
   "cell_type": "markdown",
   "metadata": {},
   "source": [
    "# Conditionals \n",
    "\n",
    "## Exercises\n",
    "\n",
    "### Level 3"
   ]
  },
  {
   "cell_type": "code",
   "execution_count": 104,
   "metadata": {},
   "outputs": [],
   "source": [
    "# 1. Here we have a person dictionary. Feel free to modify it!\n",
    "\n",
    "person={\n",
    "    'first_name': 'Asabeneh',\n",
    "    'last_name': 'Yetayeh',\n",
    "    'age': 250,\n",
    "    'country': 'Finland',\n",
    "    'is_marred': True,\n",
    "    'skills': ['JavaScript', 'React', 'Node', 'MongoDB', 'Python'],\n",
    "    'address': {\n",
    "        'street': 'Space street',\n",
    "        'zipcode': '02210'\n",
    "    }\n",
    "    }\n"
   ]
  },
  {
   "cell_type": "code",
   "execution_count": 105,
   "metadata": {},
   "outputs": [
    {
     "name": "stdout",
     "output_type": "stream",
     "text": [
      "skills is in person dictionary\n",
      "Node\n"
     ]
    }
   ],
   "source": [
    "# Check if the person dictionary has skills key, if so print out the middle skill in the skills list.\n",
    "\n",
    "if 'skills' in person:\n",
    "    print('skills is in person dictionary')\n",
    "\n",
    "skill = person['skills']\n",
    "\n",
    "middle = len('skills') // 3\n",
    "print(skill[middle])"
   ]
  },
  {
   "cell_type": "code",
   "execution_count": 106,
   "metadata": {},
   "outputs": [
    {
     "name": "stdout",
     "output_type": "stream",
     "text": [
      "Python is in person dictionary and skills\n"
     ]
    }
   ],
   "source": [
    "# Check if the person dictionary has skills key, if so check if the person has 'Python' skill and print out the result.\n",
    "\n",
    "if 'skills' in person:\n",
    "    if 'Python' in person['skills']:\n",
    "        print('Python is in person dictionary and skills')"
   ]
  },
  {
   "cell_type": "code",
   "execution_count": 107,
   "metadata": {},
   "outputs": [
    {
     "name": "stdout",
     "output_type": "stream",
     "text": [
      "unknown title\n"
     ]
    }
   ],
   "source": [
    "'''If a person skills has only JavaScript and React, print('He is a front end developer'), \n",
    " if the person skills has Node, Python, MongoDB, print('He is a backend developer'), \n",
    " if the person skills has React, Node and MongoDB, Print('He is a fullstack developer'), \n",
    " else print('unknown title') - for more accurate results more conditions can be nested!\n",
    "'''\n",
    "\n",
    "persons_skills = person['skills']\n",
    "\n",
    "if 'skills' == {'JavaScript','React'}:\n",
    "    print('He is a front end developer')\n",
    "elif 'skills' == {'Node','Python','MongoDB'}:\n",
    "    print('He is a backend developer')\n",
    "elif 'skills' == {'React','Node','MongoDB'}:\n",
    "    print('He is a fullstack developer')\n",
    "else:\n",
    "    print('unknown title')"
   ]
  },
  {
   "cell_type": "code",
   "execution_count": 108,
   "metadata": {},
   "outputs": [
    {
     "name": "stdout",
     "output_type": "stream",
     "text": [
      "Asabeneh Yetayeh lives in Finland. He is married\n"
     ]
    }
   ],
   "source": [
    "''' \n",
    "If the person is married and if he lives in Finland, print the information in the following format:\n",
    "\n",
    "    Asabeneh Yetayeh lives in Finland. He is married.\n",
    "'''\n",
    "\n",
    "print(f'{person['first_name']} {person['last_name']} lives in {person['country']}. He is married')"
   ]
  }
 ],
 "metadata": {
  "kernelspec": {
   "display_name": "Python 3",
   "language": "python",
   "name": "python3"
  },
  "language_info": {
   "codemirror_mode": {
    "name": "ipython",
    "version": 3
   },
   "file_extension": ".py",
   "mimetype": "text/x-python",
   "name": "python",
   "nbconvert_exporter": "python",
   "pygments_lexer": "ipython3",
   "version": "3.12.6"
  }
 },
 "nbformat": 4,
 "nbformat_minor": 2
}

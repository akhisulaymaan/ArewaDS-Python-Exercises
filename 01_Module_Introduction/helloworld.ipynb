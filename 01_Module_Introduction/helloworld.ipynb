{
 "cells": [
  {
   "cell_type": "markdown",
   "metadata": {},
   "source": [
    "# Introduction\n",
    "## Welcome to my day 1 Python exercises. This first part of day 1 is basically about operators in Python\n",
    "### Day 1 - 30 Days Of Python Challenge"
   ]
  },
  {
   "cell_type": "code",
   "execution_count": 1,
   "metadata": {},
   "outputs": [
    {
     "name": "stdout",
     "output_type": "stream",
     "text": [
      "44\n",
      "20\n",
      "25\n",
      "5\n",
      "3\n",
      "290\n",
      "15\n",
      "28\n",
      "252\n",
      "5.0\n",
      "10.0\n",
      "6.25\n",
      "3125\n",
      "16\n",
      "400\n",
      "1\n",
      "9\n",
      "5\n",
      "1\n",
      "1\n",
      "1\n"
     ]
    }
   ],
   "source": [
    "# addition(+)\n",
    "print(32 + 12)\n",
    "print(5 + 15)\n",
    "print(4 + 21)\n",
    "\n",
    "# subtraction(-)\n",
    "print(10 - 5)\n",
    "print(24 - 21)\n",
    "print(300 - 10)\n",
    "\n",
    "# multiplication(*)\n",
    "print(3 * 5)\n",
    "print(14 * 2)\n",
    "print(21 * 12)\n",
    "\n",
    "# division(/)\n",
    "print(15 / 3)\n",
    "print(20 / 2)\n",
    "print(25 / 4)\n",
    "\n",
    "# exponential(**)\n",
    "print(5 ** 5)\n",
    "print(4 ** 2)\n",
    "print(20 ** 2)\n",
    "\n",
    "# modulus(%)\n",
    "print(3 % 2)\n",
    "print(99 % 10)\n",
    "print(55 % 25)\n",
    "\n",
    "# Floor division operator(//)\n",
    "print(3 // 2)\n",
    "print(3 // 2)\n",
    "print(3 // 2) "
   ]
  },
  {
   "cell_type": "markdown",
   "metadata": {},
   "source": [
    "# THis second part is about Checking data types. In Python, there are various type of data "
   ]
  },
  {
   "cell_type": "code",
   "execution_count": null,
   "metadata": {},
   "outputs": [
    {
     "name": "stdout",
     "output_type": "stream",
     "text": [
      "<class 'int'>\n",
      "<class 'float'>\n",
      "<class 'complex'>\n",
      "<class 'str'>\n",
      "<class 'list'>\n",
      "<class 'dict'>\n",
      "<class 'set'>\n",
      "<class 'tuple'>\n",
      "<class 'bool'>\n",
      "<class 'bool'>\n"
     ]
    }
   ],
   "source": [
    "# Integer\n",
    "print(type(10))\n",
    "\n",
    "# Float\n",
    "print(type(3.14))\n",
    "\n",
    "# Complex\n",
    "print(type(1 + 3j))\n",
    "\n",
    "# String\n",
    "print(type('Asabeneh'))\n",
    "\n",
    "# List\n",
    "print(type([1, 2, 3]))\n",
    "\n",
    "# Dictionary\n",
    "print(type({'name':'Asabeneh'}))\n",
    "\n",
    "# Set\n",
    "print(type({9.8, 3.14, 2.7}))\n",
    "\n",
    "# Tuple\n",
    "print(type((9.8, 3.14, 2.7)))\n",
    "\n",
    "# Bool\n",
    "print(type(3 == 3))\n",
    "print(type(3 >= 3))"
   ]
  }
 ],
 "metadata": {
  "kernelspec": {
   "display_name": "Python 3",
   "language": "python",
   "name": "python3"
  },
  "language_info": {
   "codemirror_mode": {
    "name": "ipython",
    "version": 3
   },
   "file_extension": ".py",
   "mimetype": "text/x-python",
   "name": "python",
   "nbconvert_exporter": "python",
   "pygments_lexer": "ipython3",
   "version": "3.12.6"
  }
 },
 "nbformat": 4,
 "nbformat_minor": 2
}

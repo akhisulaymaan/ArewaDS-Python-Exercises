{
 "cells": [
  {
   "cell_type": "markdown",
   "metadata": {},
   "source": [
    "# Level 1"
   ]
  },
  {
   "cell_type": "markdown",
   "metadata": {},
   "source": [
    "## 1: Explain the difference between map, filter, and reduce.\n",
    "\n",
    "**Map**: The `map()` function applies a given function to each item in an iterable, transforming all the items (e.g., squaring numbers).\n",
    "\n",
    "**Filter**: The `filter()` function selects items from an iterable based on a condition, keeping only those that satisfy it (e.g., filtering even numbers).\n",
    "\n",
    "**Reduce**: The `reduce()` function combines all items in an iterable into a single value using a specified operation (e.g., multiplying all numbers).\n",
    "\n",
    "While `map` focuses on transformation, `filter` focuses on selection, and `reduce` focuses on aggregation."
   ]
  },
  {
   "cell_type": "markdown",
   "metadata": {},
   "source": [
    "# 2: Explain the difference between higher order function, closure and decorator\n",
    "\n",
    "**Higher Order Function**: A higher order function is a function that takes other functions as arguments or returns them as results, enabling flexible and reusable code.\n",
    "\n",
    "**Closure**: A closure is a function that retains access to variables from its defining scope even after that scope has exited, allowing the creation of functions with private data.\n",
    "\n",
    "**Decorator**: A decorator is a specialized higher-order function used to modify or extend the behavior of another function, often for purposes like logging or access control.\n"
   ]
  },
  {
   "cell_type": "code",
   "execution_count": 1,
   "metadata": {},
   "outputs": [
    {
     "name": "stdout",
     "output_type": "stream",
     "text": [
      "[2, 4, 6, 8]\n"
     ]
    }
   ],
   "source": [
    "# 3: Define a call function before map, filter or reduce.\n",
    "numbers = [1, 2, 3, 4, 5, 6, 7, 8, 9]\n",
    "\n",
    "def is_even(number):\n",
    "    if number % 2 == 0:\n",
    "        return True\n",
    "    return False\n",
    "\n",
    "even_numbers = list(filter(is_even, numbers))\n",
    "print(even_numbers)"
   ]
  },
  {
   "cell_type": "code",
   "execution_count": 2,
   "metadata": {},
   "outputs": [
    {
     "name": "stdout",
     "output_type": "stream",
     "text": [
      "Estonia\n",
      "Finland\n",
      "Sweden\n",
      "Denmark\n",
      "Norway\n",
      "Iceland\n"
     ]
    }
   ],
   "source": [
    "# 4: Use for loop to print each country in the countries list.\n",
    "\n",
    "countries = ['Estonia', 'Finland', 'Sweden', 'Denmark', 'Norway', 'Iceland']\n",
    "for country in countries:\n",
    "    print(country)"
   ]
  },
  {
   "cell_type": "code",
   "execution_count": 3,
   "metadata": {},
   "outputs": [
    {
     "name": "stdout",
     "output_type": "stream",
     "text": [
      "1\n",
      "2\n",
      "3\n",
      "4\n",
      "5\n",
      "6\n",
      "7\n",
      "8\n",
      "9\n",
      "10\n"
     ]
    }
   ],
   "source": [
    "# 5: Use for to print each name in the names list.\n",
    "\n",
    "numbers = [1, 2, 3, 4, 5, 6, 7, 8, 9, 10]\n",
    "for number in numbers:\n",
    "    print(number)"
   ]
  },
  {
   "cell_type": "code",
   "execution_count": 4,
   "metadata": {},
   "outputs": [
    {
     "name": "stdout",
     "output_type": "stream",
     "text": [
      "1\n",
      "2\n",
      "3\n",
      "4\n",
      "5\n",
      "6\n",
      "7\n",
      "8\n",
      "9\n",
      "10\n"
     ]
    }
   ],
   "source": [
    "# 6: Use for to print each number in the numbers list.\n",
    "\n",
    "numbers = [1, 2, 3, 4, 5, 6, 7, 8, 9, 10]\n",
    "for number in numbers:\n",
    "    print(number)"
   ]
  },
  {
   "cell_type": "markdown",
   "metadata": {},
   "source": [
    "## Level 2\n"
   ]
  },
  {
   "cell_type": "code",
   "execution_count": 5,
   "metadata": {},
   "outputs": [
    {
     "name": "stdout",
     "output_type": "stream",
     "text": [
      "['ESTONIA', 'FINLAND', 'SWEDEN', 'DENMARK', 'NORWAY', 'ICELAND']\n"
     ]
    }
   ],
   "source": [
    "# 1. Use map to create a new list by changing each country to uppercase in the countries list\n",
    "\n",
    "countries = ['Estonia', 'Finland', 'Sweden', 'Denmark', 'Norway', 'Iceland']\n",
    "uppercase_countries = list(map(lambda x: x.upper(), countries))\n",
    "print(uppercase_countries)\n"
   ]
  },
  {
   "cell_type": "code",
   "execution_count": 6,
   "metadata": {},
   "outputs": [
    {
     "name": "stdout",
     "output_type": "stream",
     "text": [
      "[1, 4, 9, 16, 25, 36, 49, 64, 81]\n"
     ]
    }
   ],
   "source": [
    "# 2. Use map to create a new list by changing each number to its square in the numbers list\n",
    "numbers = [1, 2, 3, 4, 5, 6, 7, 8, 9]\n",
    "squared_numbers = list(map(lambda x: x ** 2, numbers))\n",
    "print(squared_numbers)"
   ]
  },
  {
   "cell_type": "code",
   "execution_count": 7,
   "metadata": {},
   "outputs": [
    {
     "name": "stdout",
     "output_type": "stream",
     "text": [
      "['ASABENEH', 'LIDIYA', 'ERMIAS', 'ABRAHAM']\n"
     ]
    }
   ],
   "source": [
    "# 3. Use map to change each name to uppercase in the names list\n",
    "\n",
    "names = ['Asabeneh', 'Lidiya', 'Ermias', 'Abraham']\n",
    "uppercase_names = list(map(lambda x: x.upper(), names))\n",
    "print(uppercase_names)"
   ]
  },
  {
   "cell_type": "code",
   "execution_count": 8,
   "metadata": {},
   "outputs": [
    {
     "name": "stdout",
     "output_type": "stream",
     "text": [
      "['Finland', 'Iceland']\n"
     ]
    }
   ],
   "source": [
    "# 4. Use filter to filter out countries containing 'land'.\n",
    "\n",
    "countries = ['Estonia', 'Finland', 'Sweden', 'Denmark', 'Norway', 'Iceland']\n",
    "contains_land = list(filter(lambda x: 'land' in x, countries))\n",
    "print(contains_land)"
   ]
  },
  {
   "cell_type": "code",
   "execution_count": 9,
   "metadata": {},
   "outputs": [
    {
     "name": "stdout",
     "output_type": "stream",
     "text": [
      "['Sweden', 'Norway']\n"
     ]
    }
   ],
   "source": [
    "# 5. Use filter to filter out countries having exactly six characters.\n",
    "\n",
    "countries = ['Estonia', 'Finland', 'Sweden', 'Denmark', 'Norway', 'Iceland']\n",
    "six_chars_countries = list(filter(lambda x: len(x) == 6, countries))\n",
    "print(six_chars_countries)"
   ]
  },
  {
   "cell_type": "code",
   "execution_count": 10,
   "metadata": {},
   "outputs": [
    {
     "name": "stdout",
     "output_type": "stream",
     "text": [
      "['Estonia', 'Finland', 'Sweden', 'Denmark', 'Norway']\n"
     ]
    }
   ],
   "source": [
    "# 6. Use filter to filter out countries containing six letters and more in the country list.\n",
    "\n",
    "countries = ['USA', 'Estonia', 'Finland', 'Sweden', 'Denmark', 'Norway']\n",
    "min_six_chars_countries = list(filter(lambda x: len(x) >= 6, countries))\n",
    "print(min_six_chars_countries) "
   ]
  },
  {
   "cell_type": "code",
   "execution_count": 11,
   "metadata": {},
   "outputs": [
    {
     "name": "stdout",
     "output_type": "stream",
     "text": [
      "['Estonia']\n"
     ]
    }
   ],
   "source": [
    "# 7. Use filter to filter out countries starting with an 'E'\n",
    "\n",
    "countries = ['Estonia', 'Finland', 'Sweden', 'Denmark', 'Norway', 'Iceland']\n",
    "starts_with_E = list(filter(lambda x: x[0].upper() == 'E', countries))\n",
    "print(starts_with_E)"
   ]
  },
  {
   "cell_type": "code",
   "execution_count": 12,
   "metadata": {},
   "outputs": [
    {
     "name": "stdout",
     "output_type": "stream",
     "text": [
      "['SWEDEN', 'NORWAY']\n"
     ]
    }
   ],
   "source": [
    "# 8. Chain two or more list iterators (eg. arr.map(callback).filter(callback).reduce(callback))\n",
    "\n",
    "countries = ['Estonia', 'Finland', 'Sweden', 'Denmark', 'Norway', 'Iceland']\n",
    "chained_operations = list(filter(\n",
    "                                lambda x: len(x) == 6,\n",
    "                                map(\n",
    "                                    lambda x: x.upper(),\n",
    "                                    countries)\n",
    "                                )\n",
    "                            )\n",
    "print(chained_operations)"
   ]
  },
  {
   "cell_type": "code",
   "execution_count": 13,
   "metadata": {},
   "outputs": [
    {
     "name": "stdout",
     "output_type": "stream",
     "text": [
      "['Python', 'Hello']\n"
     ]
    }
   ],
   "source": [
    "# 9. Declare a function called get_string_lists which takes a list as a parameter and then returns a list containing only string items.\n",
    "\n",
    "def get_string_lists(lst):\n",
    "    return [i for i in lst if type(i) == str]\n",
    "lst = [1, 'Python', 3, True, 'Hello', 5, 6.7]\n",
    "string_list = get_string_lists(lst)\n",
    "print(string_list)"
   ]
  },
  {
   "cell_type": "code",
   "execution_count": 14,
   "metadata": {},
   "outputs": [
    {
     "name": "stdout",
     "output_type": "stream",
     "text": [
      "55\n"
     ]
    }
   ],
   "source": [
    "# 10. Use reduce to sum all the numbers in the numbers list.\n",
    "\n",
    "from functools import reduce\n",
    "numbers = [1, 2, 3, 4, 5, 6, 7, 8, 9, 10]\n",
    "sum_numbers = reduce(lambda x, y: x + y, numbers)\n",
    "print(sum_numbers)\n"
   ]
  },
  {
   "cell_type": "code",
   "execution_count": 17,
   "metadata": {},
   "outputs": [
    {
     "name": "stdout",
     "output_type": "stream",
     "text": [
      "Estonia, Finland, Sweden, Denmark, Norway, and Iceland are north European countries.\n"
     ]
    }
   ],
   "source": [
    "# 11. Use reduce to concatenate all the countries and to produce this sentence: Estonia, Finland, Sweden, Denmark, Norway, and Iceland are north European countries\n",
    "\n",
    "countries = ['Estonia', 'Finland', 'Sweden', 'Denmark', 'Norway', 'Iceland']\n",
    "join_strings = lambda x, y: y if x == \"\" else f\"{x}, and {y}\" if y == countries[-1] else f\"{x}, {y}\"\n",
    "sentense = reduce(join_strings, countries, '') +\" are north European countries.\"\n",
    "print(sentense)"
   ]
  },
  {
   "cell_type": "code",
   "execution_count": 18,
   "metadata": {},
   "outputs": [
    {
     "data": {
      "text/plain": [
       "[{'Pattern': 'stan',\n",
       "  'Countries': ['Afghanistan',\n",
       "   'Kazakhstan',\n",
       "   'Kyrgyzstan',\n",
       "   'Pakistan',\n",
       "   'Tajikistan',\n",
       "   'Turkmenistan',\n",
       "   'Uzbekistan']},\n",
       " {'Pattern': 'ia',\n",
       "  'Countries': ['Albania',\n",
       "   'Algeria',\n",
       "   'Armenia',\n",
       "   'Australia',\n",
       "   'Austria',\n",
       "   'Bolivia',\n",
       "   'Bosnia and Herzegovina',\n",
       "   'Bulgaria',\n",
       "   'Cambodia',\n",
       "   'Croatia',\n",
       "   'Equatorial Guinea',\n",
       "   'Estonia',\n",
       "   'Ethiopia',\n",
       "   'Gambia, The',\n",
       "   'Georgia',\n",
       "   'India',\n",
       "   'Indonesia',\n",
       "   'Latvia',\n",
       "   'Liberia',\n",
       "   'Lithuania',\n",
       "   'Macedonia',\n",
       "   'Malaysia',\n",
       "   'Mauritania',\n",
       "   'Micronesia',\n",
       "   'Mongolia',\n",
       "   'Namibia',\n",
       "   'Nigeria',\n",
       "   'Romania',\n",
       "   'Russia',\n",
       "   'Saint Lucia',\n",
       "   'Saudi Arabia',\n",
       "   'Serbia and Montenegro',\n",
       "   'Slovakia',\n",
       "   'Slovenia',\n",
       "   'Somalia',\n",
       "   'Syria',\n",
       "   'Tanzania',\n",
       "   'Tunisia',\n",
       "   'Zambia']},\n",
       " {'Pattern': 'land',\n",
       "  'Countries': ['Finland',\n",
       "   'Iceland',\n",
       "   'Ireland',\n",
       "   'Marshall Islands',\n",
       "   'Netherlands',\n",
       "   'New Zealand',\n",
       "   'Poland',\n",
       "   'Solomon Islands',\n",
       "   'Swaziland',\n",
       "   'Switzerland',\n",
       "   'Thailand']}]"
      ]
     },
     "execution_count": 18,
     "metadata": {},
     "output_type": "execute_result"
    }
   ],
   "source": [
    "# 12. Declare a function called categorize_countries that returns a list of countries with some common pattern (you can find the [countries list](https://github.com/Asabeneh/30-Days-Of-Python/blob/master/data/countries.py) in this repository as countries.js(eg 'land', 'ia', 'island', 'stan')).\n",
    "\n",
    "countries = [\n",
    "  'Afghanistan',\n",
    "  'Albania',\n",
    "  'Algeria',\n",
    "  'Andorra',\n",
    "  'Angola',\n",
    "  'Antigua and Barbuda',\n",
    "  'Argentina',\n",
    "  'Armenia',\n",
    "  'Australia',\n",
    "  'Austria',\n",
    "  'Azerbaijan',\n",
    "  'Bahamas',\n",
    "  'Bahrain',\n",
    "  'Bangladesh',\n",
    "  'Barbados',\n",
    "  'Belarus',\n",
    "  'Belgium',\n",
    "  'Belize',\n",
    "  'Benin',\n",
    "  'Bhutan',\n",
    "  'Bolivia',\n",
    "  'Bosnia and Herzegovina',\n",
    "  'Botswana',\n",
    "  'Brazil',\n",
    "  'Brunei',\n",
    "  'Bulgaria',\n",
    "  'Burkina Faso',\n",
    "  'Burundi',\n",
    "  'Cambodia',\n",
    "  'Cameroon',\n",
    "  'Canada',\n",
    "  'Cape Verde',\n",
    "  'Central African Republic',\n",
    "  'Chad',\n",
    "  'Chile',\n",
    "  'China',\n",
    "  'Colombi',\n",
    "  'Comoros',\n",
    "  'Congo (Brazzaville)',\n",
    "  'Congo',\n",
    "  'Costa Rica',\n",
    "  \"Cote d'Ivoire\",\n",
    "  'Croatia',\n",
    "  'Cuba',\n",
    "  'Cyprus',\n",
    "  'Czech Republic',\n",
    "  'Denmark',\n",
    "  'Djibouti',\n",
    "  'Dominica',\n",
    "  'Dominican Republic',\n",
    "  'East Timor (Timor Timur)',\n",
    "  'Ecuador',\n",
    "  'Egypt',\n",
    "  'El Salvador',\n",
    "  'Equatorial Guinea',\n",
    "  'Eritrea',\n",
    "  'Estonia',\n",
    "  'Ethiopia',\n",
    "  'Fiji',\n",
    "  'Finland',\n",
    "  'France',\n",
    "  'Gabon',\n",
    "  'Gambia, The',\n",
    "  'Georgia',\n",
    "  'Germany',\n",
    "  'Ghana',\n",
    "  'Greece',\n",
    "  'Grenada',\n",
    "  'Guatemala',\n",
    "  'Guinea',\n",
    "  'Guinea-Bissau',\n",
    "  'Guyana',\n",
    "  'Haiti',\n",
    "  'Honduras',\n",
    "  'Hungary',\n",
    "  'Iceland',\n",
    "  'India',\n",
    "  'Indonesia',\n",
    "  'Iran',\n",
    "  'Iraq',\n",
    "  'Ireland',\n",
    "  'Israel',\n",
    "  'Italy',\n",
    "  'Jamaica',\n",
    "  'Japan',\n",
    "  'Jordan',\n",
    "  'Kazakhstan',\n",
    "  'Kenya',\n",
    "  'Kiribati',\n",
    "  'Korea, North',\n",
    "  'Korea, South',\n",
    "  'Kuwait',\n",
    "  'Kyrgyzstan',\n",
    "  'Laos',\n",
    "  'Latvia',\n",
    "  'Lebanon',\n",
    "  'Lesotho',\n",
    "  'Liberia',\n",
    "  'Libya',\n",
    "  'Liechtenstein',\n",
    "  'Lithuania',\n",
    "  'Luxembourg',\n",
    "  'Macedonia',\n",
    "  'Madagascar',\n",
    "  'Malawi',\n",
    "  'Malaysia',\n",
    "  'Maldives',\n",
    "  'Mali',\n",
    "  'Malta',\n",
    "  'Marshall Islands',\n",
    "  'Mauritania',\n",
    "  'Mauritius',\n",
    "  'Mexico',\n",
    "  'Micronesia',\n",
    "  'Moldova',\n",
    "  'Monaco',\n",
    "  'Mongolia',\n",
    "  'Morocco',\n",
    "  'Mozambique',\n",
    "  'Myanmar',\n",
    "  'Namibia',\n",
    "  'Nauru',\n",
    "  'Nepal',\n",
    "  'Netherlands',\n",
    "  'New Zealand',\n",
    "  'Nicaragua',\n",
    "  'Niger',\n",
    "  'Nigeria',\n",
    "  'Norway',\n",
    "  'Oman',\n",
    "  'Pakistan',\n",
    "  'Palau',\n",
    "  'Panama',\n",
    "  'Papua New Guinea',\n",
    "  'Paraguay',\n",
    "  'Peru',\n",
    "  'Philippines',\n",
    "  'Poland',\n",
    "  'Portugal',\n",
    "  'Qatar',\n",
    "  'Romania',\n",
    "  'Russia',\n",
    "  'Rwanda',\n",
    "  'Saint Kitts and Nevis',\n",
    "  'Saint Lucia',\n",
    "  'Saint Vincent',\n",
    "  'Samoa',\n",
    "  'San Marino',\n",
    "  'Sao Tome and Principe',\n",
    "  'Saudi Arabia',\n",
    "  'Senegal',\n",
    "  'Serbia and Montenegro',\n",
    "  'Seychelles',\n",
    "  'Sierra Leone',\n",
    "  'Singapore',\n",
    "  'Slovakia',\n",
    "  'Slovenia',\n",
    "  'Solomon Islands',\n",
    "  'Somalia',\n",
    "  'South Africa',\n",
    "  'Spain',\n",
    "  'Sri Lanka',\n",
    "  'Sudan',\n",
    "  'Suriname',\n",
    "  'Swaziland',\n",
    "  'Sweden',\n",
    "  'Switzerland',\n",
    "  'Syria',\n",
    "  'Taiwan',\n",
    "  'Tajikistan',\n",
    "  'Tanzania',\n",
    "  'Thailand',\n",
    "  'Togo',\n",
    "  'Tonga',\n",
    "  'Trinidad and Tobago',\n",
    "  'Tunisia',\n",
    "  'Turkey',\n",
    "  'Turkmenistan',\n",
    "  'Tuvalu',\n",
    "  'Uganda',\n",
    "  'Ukraine',\n",
    "  'United Arab Emirates',\n",
    "  'United Kingdom',\n",
    "  'United States',\n",
    "  'Uruguay',\n",
    "  'Uzbekistan',\n",
    "  'Vanuatu',\n",
    "  'Vatican City',\n",
    "  'Venezuela',\n",
    "  'Vietnam',\n",
    "  'Yemen',\n",
    "  'Zambia',\n",
    "  'Zimbabwe',\n",
    "]\n",
    "def categorize_countries(countries):\n",
    "    categories = {}\n",
    "    for country in countries:\n",
    "        if 'land' in country:\n",
    "            if 'land' in categories:\n",
    "                categories['land'].append(country)\n",
    "            else:\n",
    "                categories['land'] = [country]\n",
    "        elif 'stan' in country:\n",
    "            if 'stan' in categories:\n",
    "                categories['stan'].append(country)\n",
    "            else:\n",
    "                categories['stan'] = [country]\n",
    "        elif 'ia' in country:\n",
    "            if 'ia' in categories:\n",
    "                categories['ia'].append(country)\n",
    "            else:\n",
    "                categories['ia'] = [country]\n",
    "    list_of_categories = [{'Pattern': k, 'Countries': v} for k\n",
    "                          , v in categories.items()]\n",
    "    return list_of_categories\n",
    "categorize_countries(countries)\n"
   ]
  },
  {
   "cell_type": "code",
   "execution_count": 19,
   "metadata": {},
   "outputs": [
    {
     "name": "stdout",
     "output_type": "stream",
     "text": [
      "{'A': 11, 'B': 17, 'C': 18, 'D': 4, 'E': 8, 'F': 3, 'G': 11, 'H': 3, 'I': 8, 'J': 3, 'K': 7, 'L': 9, 'M': 18, 'N': 9, 'O': 1, 'P': 9, 'Q': 1, 'R': 3, 'S': 25, 'T': 11, 'U': 7, 'V': 4, 'Y': 1, 'Z': 2}\n"
     ]
    }
   ],
   "source": [
    "# 13. Create a function returning a dictionary, where keys stand for starting letters of countries and values are the number of country names starting with that letter.\n",
    "\n",
    "def countries_counter(countries):\n",
    "    countries_count = {}\n",
    "    for country in countries:\n",
    "        if country[0] in countries_count:\n",
    "            countries_count[country[0]] += 1\n",
    "        else:\n",
    "            countries_count[country[0]] = 1\n",
    "    return countries_count\n",
    "countries_count = countries_counter(countries)\n",
    "print(countries_count)"
   ]
  },
  {
   "cell_type": "code",
   "execution_count": 20,
   "metadata": {},
   "outputs": [
    {
     "name": "stdout",
     "output_type": "stream",
     "text": [
      "['Afghanistan', 'Albania', 'Algeria', 'Andorra', 'Angola', 'Antigua and Barbuda', 'Argentina', 'Armenia', 'Australia', 'Austria']\n"
     ]
    }
   ],
   "source": [
    "# 14. Declare a get_first_ten_countries function - it returns a list of first ten countries from the countries.js list in the data folder.\n",
    "\n",
    "def get_firt_ten_countries(countries):\n",
    "    return countries[:10]\n",
    "first_ten_countries = get_firt_ten_countries(countries)\n",
    "print(first_ten_countries)"
   ]
  },
  {
   "cell_type": "code",
   "execution_count": 21,
   "metadata": {},
   "outputs": [
    {
     "name": "stdout",
     "output_type": "stream",
     "text": [
      "['United States', 'Uruguay', 'Uzbekistan', 'Vanuatu', 'Vatican City', 'Venezuela', 'Vietnam', 'Yemen', 'Zambia', 'Zimbabwe']\n"
     ]
    }
   ],
   "source": [
    "# 15. Declare a get_last_ten_countries function that returns the last ten countries in the countries list.\n",
    "def get_last_ten_countries(countries):\n",
    "    return countries[-10:]\n",
    "last_ten_countries = get_last_ten_countries(countries)\n",
    "print(last_ten_countries)"
   ]
  },
  {
   "cell_type": "markdown",
   "metadata": {},
   "source": [
    "## Level 3"
   ]
  },
  {
   "cell_type": "markdown",
   "metadata": {},
   "source": [
    "### 1. Use the countries_data.py (https://github.com/Asabeneh/30-Days-Of-Python/blob/master/data/countries-data.py) file and follow the tasks below:\n",
    "   "
   ]
  },
  {
   "cell_type": "code",
   "execution_count": 24,
   "metadata": {},
   "outputs": [],
   "source": [
    "# First import countries_data\n",
    "from countries_data import countries_data"
   ]
  },
  {
   "cell_type": "code",
   "execution_count": null,
   "metadata": {},
   "outputs": [
    {
     "ename": "TypeError",
     "evalue": "list indices must be integers or slices, not str",
     "output_type": "error",
     "traceback": [
      "\u001b[1;31m---------------------------------------------------------------------------\u001b[0m",
      "\u001b[1;31mTypeError\u001b[0m                                 Traceback (most recent call last)",
      "Cell \u001b[1;32mIn[27], line 21\u001b[0m\n\u001b[0;32m     15\u001b[0m                 most_spoken_languages \u001b[38;5;241m=\u001b[39m \u001b[38;5;28mdict\u001b[39m(\u001b[38;5;28msorted\u001b[39m(most_spoken_languages\u001b[38;5;241m.\u001b[39mitems(),\n\u001b[0;32m     16\u001b[0m                                                    key\u001b[38;5;241m=\u001b[39m\u001b[38;5;28;01mlambda\u001b[39;00m item: item[\u001b[38;5;241m1\u001b[39m],\n\u001b[0;32m     17\u001b[0m                                                    reverse\u001b[38;5;241m=\u001b[39m\u001b[38;5;28;01mTrue\u001b[39;00m))\n\u001b[0;32m     19\u001b[0m     \u001b[38;5;28;01mreturn\u001b[39;00m most_spoken_languages\n\u001b[1;32m---> 21\u001b[0m most_spoken_languages \u001b[38;5;241m=\u001b[39m \u001b[43mmost_spoken_languages\u001b[49m\u001b[43m(\u001b[49m\u001b[43mcountries_data\u001b[49m\u001b[43m)\u001b[49m\n\u001b[0;32m     23\u001b[0m \u001b[38;5;28;01mfor\u001b[39;00m language, count \u001b[38;5;129;01min\u001b[39;00m most_spoken_languages\u001b[38;5;241m.\u001b[39mitems():\n\u001b[0;32m     24\u001b[0m     \u001b[38;5;28mprint\u001b[39m(\u001b[38;5;124mf\u001b[39m\u001b[38;5;124m\"\u001b[39m\u001b[38;5;132;01m{\u001b[39;00mlanguage\u001b[38;5;132;01m}\u001b[39;00m\u001b[38;5;124m: \u001b[39m\u001b[38;5;132;01m{\u001b[39;00mcount\u001b[38;5;132;01m}\u001b[39;00m\u001b[38;5;124m\"\u001b[39m)\n",
      "Cell \u001b[1;32mIn[27], line 6\u001b[0m, in \u001b[0;36mmost_spoken_languages\u001b[1;34m(countries_data)\u001b[0m\n\u001b[0;32m      4\u001b[0m most_spoken_languages \u001b[38;5;241m=\u001b[39m {}\n\u001b[0;32m      5\u001b[0m \u001b[38;5;28;01mfor\u001b[39;00m country \u001b[38;5;129;01min\u001b[39;00m countries_data:\n\u001b[1;32m----> 6\u001b[0m     country \u001b[38;5;241m=\u001b[39m \u001b[43mcountries_data\u001b[49m\u001b[43m[\u001b[49m\u001b[38;5;124;43m\"\u001b[39;49m\u001b[38;5;124;43mCountry\u001b[39;49m\u001b[38;5;124;43m\"\u001b[39;49m\u001b[43m]\u001b[49m\n\u001b[0;32m      7\u001b[0m     languages \u001b[38;5;241m=\u001b[39m countries_data[\u001b[38;5;124m\"\u001b[39m\u001b[38;5;124mlanguages\u001b[39m\u001b[38;5;124m\"\u001b[39m]\n\u001b[0;32m      8\u001b[0m     \u001b[38;5;28;01mfor\u001b[39;00m language \u001b[38;5;129;01min\u001b[39;00m languages:\n",
      "\u001b[1;31mTypeError\u001b[0m: list indices must be integers or slices, not str"
     ]
    }
   ],
   "source": [
    "# - Sort out the ten most spoken languages by location.\n",
    "\n",
    "def most_spoken_languages(countries_data):\n",
    "    most_spoken_languages = {}\n",
    "    for country in countries_data:\n",
    "        country = countries_data[\"Country\"]\n",
    "        languages = countries_data[\"languages\"]"
   ]
  },
  {
   "cell_type": "code",
   "execution_count": 28,
   "metadata": {},
   "outputs": [
    {
     "name": "stdout",
     "output_type": "stream",
     "text": [
      "China: 1377422166\n",
      "India: 1295210000\n",
      "United States of America: 323947000\n",
      "Indonesia: 258705000\n",
      "Brazil: 206135893\n",
      "Pakistan: 194125062\n",
      "Nigeria: 186988000\n",
      "Bangladesh: 161006790\n",
      "Russian Federation: 146599183\n",
      "Japan: 126960000\n"
     ]
    }
   ],
   "source": [
    "# Sort out the ten most populated countries.\n",
    "\n",
    "def most_populated_countries(countries_data):\n",
    "    sorted_countries = sorted(countries_data, key=lambda x: x[\"population\"]\n",
    "                              , reverse=True)\n",
    "    return sorted_countries[:10]\n",
    "top_10_populated_countries = most_populated_countries(countries_data)\n",
    "for country in top_10_populated_countries:\n",
    "    print(f\"{country['name']}: {country['population']}\")"
   ]
  }
 ],
 "metadata": {
  "kernelspec": {
   "display_name": "Python 3",
   "language": "python",
   "name": "python3"
  },
  "language_info": {
   "codemirror_mode": {
    "name": "ipython",
    "version": 3
   },
   "file_extension": ".py",
   "mimetype": "text/x-python",
   "name": "python",
   "nbconvert_exporter": "python",
   "pygments_lexer": "ipython3",
   "version": "3.12.6"
  }
 },
 "nbformat": 4,
 "nbformat_minor": 2
}

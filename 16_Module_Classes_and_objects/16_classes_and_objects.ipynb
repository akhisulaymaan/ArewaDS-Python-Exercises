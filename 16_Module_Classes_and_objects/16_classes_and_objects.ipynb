{
 "cells": [
  {
   "cell_type": "markdown",
   "metadata": {},
   "source": [
    "# Level 1"
   ]
  },
  {
   "cell_type": "code",
   "execution_count": 1,
   "metadata": {},
   "outputs": [],
   "source": [
    "class describe:\n",
    "    \"\"\"Calculate statistics of a list of numbers\"\"\"\n",
    "\n",
    "    def __init__(self, data):\n",
    "        \"\"\"Initialize the statistics object with the data\"\"\"\n",
    "        self.data = data\n",
    "\n",
    "    def count(self):\n",
    "        \"\"\"Return the number of elements in the data\"\"\"\n",
    "        return len(self.data)\n",
    "    \n",
    "    def sum(self):\n",
    "        \"\"\"Return the sum of the data\"\"\"\n",
    "        return sum(self.data)\n",
    "    \n",
    "    def max(self):\n",
    "        \"\"\"Return the maximun value of the data\"\"\"\n",
    "        return max(self.data)\n",
    "    \n",
    "    def min(self):\n",
    "        \"\"\"Return the minimun value of the data\"\"\"\n",
    "        return min(self.data)\n",
    "    \n",
    "    def mean(self):\n",
    "        \"\"\"Calculate the mean of the data\"\"\"\n",
    "        return round(sum(self.data) / len(self.data))\n",
    "\n",
    "    def median(self):\n",
    "        \"\"\"Find the median of the data\"\"\"\n",
    "        sorted_data = sorted(self.data)\n",
    "        n = len(sorted_data)\n",
    "        if n % 2 == 0:\n",
    "            return (sorted_data[n//2 - 1] + sorted_data[n//2]) / 2\n",
    "        else:\n",
    "            return sorted_data[n//2]\n",
    "\n",
    "    def mode(self):\n",
    "        \"\"\"Find the mode of the data\"\"\"\n",
    "        counter = {}\n",
    "        for i in self.data:\n",
    "            if i in counter:\n",
    "                counter[i] += 1\n",
    "            else:\n",
    "                counter[i] = 1\n",
    "        max_count = max(counter.values())\n",
    "        mode = [k for k, v in counter.items() if v == max_count]\n",
    "        return {'mode': mode[0], 'count': max_count}\n",
    "\n",
    "    def range(self):\n",
    "        \"\"\"Calculate the range of the data\"\"\"\n",
    "        return max(self.data) - min(self.data)\n",
    "\n",
    "    def var(self):\n",
    "        \"\"\"Calculate the variance of the data\"\"\"\n",
    "        mean = self.mean()\n",
    "        return sum([(x - mean) ** 2 for x in self.data]) / len(self.data)\n",
    "\n",
    "    def std(self):\n",
    "        \"\"\"Calculate the standard deviation of the data\"\"\"\n",
    "        return round(self.var() ** 0.5, 2)\n",
    "\n",
    "    def freq_dist(self):\n",
    "        \"\"\"Return the frequency distribution of the data\"\"\"\n",
    "        counter = {}\n",
    "        for i in self.data:\n",
    "            if i in counter:\n",
    "                counter[i] += 1\n",
    "            else:\n",
    "                counter[i] = 1\n",
    "        freq_list = [(v, k) for k, v in counter.items()]\n",
    "        freq_list.sort(reverse=True)\n",
    "        return freq_list"
   ]
  },
  {
   "cell_type": "code",
   "execution_count": 2,
   "metadata": {},
   "outputs": [
    {
     "name": "stdout",
     "output_type": "stream",
     "text": [
      "Count: 25\n",
      "Sum:  744\n",
      "Min:  24\n",
      "Max:  38\n",
      "Range:  14\n",
      "Mean:  30\n",
      "Median:  29\n",
      "Mode:  {'mode': 26, 'count': 5}\n",
      "Standard Deviation:  4.2\n",
      "Variance:  17.6\n",
      "Frequency Distribution:  [(5, 26), (4, 27), (3, 32), (2, 37), (2, 34), (2, 33), (2, 31), (2, 24), (1, 38), (1, 29), (1, 25)]\n"
     ]
    }
   ],
   "source": [
    "# Output\n",
    "ages = [31, 26, 34, 37, 27, 26, 32, 32, 26, 27, 27, 24, 32, 33, 27, 25, 26, 38\n",
    "        , 37, 31, 34, 24, 33, 29, 26]\n",
    "\n",
    "data = describe(ages)\n",
    "\n",
    "print('Count:', data.count())\n",
    "print('Sum: ', data.sum())\n",
    "print('Min: ', data.min())\n",
    "print('Max: ', data.max())\n",
    "print('Range: ', data.range())\n",
    "print('Mean: ', data.mean())\n",
    "print('Median: ', data.median())\n",
    "print('Mode: ', data.mode())\n",
    "print('Standard Deviation: ', data.std())\n",
    "print('Variance: ', data.var())\n",
    "print('Frequency Distribution: ', data.freq_dist())"
   ]
  },
  {
   "cell_type": "markdown",
   "metadata": {},
   "source": [
    "\n",
    "## Level 2"
   ]
  },
  {
   "cell_type": "code",
   "execution_count": 3,
   "metadata": {},
   "outputs": [],
   "source": [
    "# 1. Create a class called PersonAccount. It has firstname, lastname, incomes, expenses properties and it has total_income, total_expense, account_info, add_income, add_expense and account_balance methods. Incomes is a set of incomes and its description. The same goes for expenses.\n",
    "\n",
    "class PersonAccount:\n",
    "    \"\"\"A class to represent a personal account\"\"\"\n",
    "\n",
    "    def __init__(self, firstname, lastname, incomes, expenses):\n",
    "        \"\"\"Initialize the account with the owner's name, incomes and expenses\"\"\"\n",
    "        self.firtname = firstname\n",
    "        self.lastname = lastname\n",
    "        self.incomes = incomes\n",
    "        self.expenses = expenses\n",
    "\n",
    "    def total_income(self):\n",
    "        \"\"\"Return the total income of the account\"\"\"\n",
    "        return sum(self.incomes)\n",
    "    \n",
    "    def total_expenses(self):\n",
    "        \"\"\"Return the total expenses of the account\"\"\"\n",
    "        return sum(self.expenses)\n",
    "    \n",
    "    def account_info(self):\n",
    "        \"\"\"Return the account information\"\"\"\n",
    "        return {'Firstname': self.firtname, 'Lastname': self.lastname,\n",
    "                'Total Income': self.total_income(),\n",
    "                'Total Expenses': self.total_expenses(),\n",
    "                'Balance': self.total_income() - self.total_expenses()}\n",
    "    \n",
    "    def add_income(self, income):\n",
    "        \"\"\"Add an income to the account\"\"\"\n",
    "        self.incomes.append(income)\n",
    "\n",
    "    def add_expense(self, expense):\n",
    "        \"\"\"Add an expense to the account\"\"\"\n",
    "        self.expenses.append(expense)\n",
    "\n",
    "    def account_balance(self):\n",
    "        \"\"\"Return the balance of the account\"\"\"\n",
    "        return self.total_income() - self.total_expenses()"
   ]
  },
  {
   "cell_type": "code",
   "execution_count": 4,
   "metadata": {},
   "outputs": [
    {
     "name": "stdout",
     "output_type": "stream",
     "text": [
      "Total Income: 20000\n",
      "Total Expenses:  5000\n",
      "Account Balance:  15000\n",
      "Total Income:  23000\n",
      "Total Expense:  7000\n",
      "Account Info:  {'Firstname': 'Aminu', 'Lastname': 'Ahmadu', 'Total Income': 23000, 'Total Expenses': 7000, 'Balance': 16000}\n"
     ]
    }
   ],
   "source": [
    "# Output\n",
    "incomes = [5000, 7000, 8000]\n",
    "expenses = [2000, 3000]\n",
    "\n",
    "account = PersonAccount('Aminu', 'Ahmadu', incomes, expenses)\n",
    "\n",
    "print('Total Income:', account.total_income())\n",
    "print('Total Expenses: ', account.total_expenses())\n",
    "print('Account Balance: ', account.account_balance())\n",
    "\n",
    "# Add more income and expenses\n",
    "account.add_income(3000)\n",
    "account.add_expense(2000)\n",
    "\n",
    "print('Total Income: ', account.total_income())\n",
    "print('Total Expense: ', account.total_expenses())\n",
    "print('Account Info: ', account.account_info())"
   ]
  }
 ],
 "metadata": {
  "kernelspec": {
   "display_name": "Python 3",
   "language": "python",
   "name": "python3"
  },
  "language_info": {
   "codemirror_mode": {
    "name": "ipython",
    "version": 3
   },
   "file_extension": ".py",
   "mimetype": "text/x-python",
   "name": "python",
   "nbconvert_exporter": "python",
   "pygments_lexer": "ipython3",
   "version": "3.12.6"
  }
 },
 "nbformat": 4,
 "nbformat_minor": 2
}

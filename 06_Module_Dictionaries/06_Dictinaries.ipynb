{
 "cells": [
  {
   "cell_type": "markdown",
   "metadata": {},
   "source": [
    "# Module 6\n",
    "\n",
    "## Dictionaries\n",
    "\n",
    "### Exercises"
   ]
  },
  {
   "cell_type": "code",
   "execution_count": 22,
   "metadata": {},
   "outputs": [],
   "source": [
    "# 1. Create  an empty dictionary called dog\n",
    "\n",
    "dic_empty = {}\n"
   ]
  },
  {
   "cell_type": "code",
   "execution_count": 23,
   "metadata": {},
   "outputs": [],
   "source": [
    "# 2. Add name, color, breed, legs, age to the dog dictionary\n",
    "\n",
    "dog = {\n",
    "    'name' : 'doggy',\n",
    "    'color' : 'black',\n",
    "    'breed' : 'austrician',\n",
    "    'legs' : 'k_leg',\n",
    "    'age' : 3\n",
    "}\n"
   ]
  },
  {
   "cell_type": "code",
   "execution_count": 24,
   "metadata": {},
   "outputs": [],
   "source": [
    "# 3. Create a student dictionary and add first_name, last_name, gender, age, marital status, skills, country, city and address as keys for the dictionary\n",
    "\n",
    "student_dic = {\n",
    "    'first_name' : 'Salmaan',\n",
    "    'last_name' : 'Sulaimon',\n",
    "    'gender' : 'male',\n",
    "    'age' : 14,\n",
    "    'marital status' : 'Single',\n",
    "    'skills' : ['JavaScript', 'React', 'Node', 'MongoDB', 'Python'],\n",
    "    'country' : 'nigeria',\n",
    "    'city' : 'Lagos',\n",
    "    'address' : {\n",
    "        'street':'11, abeokuta street',\n",
    "        'zipcode':'23401'\n",
    "    }\n",
    "}"
   ]
  },
  {
   "cell_type": "code",
   "execution_count": 25,
   "metadata": {},
   "outputs": [
    {
     "name": "stdout",
     "output_type": "stream",
     "text": [
      "9\n"
     ]
    }
   ],
   "source": [
    "# 4. Get the length of the student dictionary\n",
    "\n",
    "print(len(student_dic))"
   ]
  },
  {
   "cell_type": "code",
   "execution_count": 26,
   "metadata": {},
   "outputs": [
    {
     "name": "stdout",
     "output_type": "stream",
     "text": [
      "<class 'list'>\n"
     ]
    }
   ],
   "source": [
    "# 5. Get the value of skills and check the data type, it should be a list\n",
    "\n",
    "print(type(student_dic['skills']))"
   ]
  },
  {
   "cell_type": "code",
   "execution_count": 27,
   "metadata": {},
   "outputs": [
    {
     "name": "stdout",
     "output_type": "stream",
     "text": [
      "['JavaScript', 'React', 'Node', 'MongoDB', 'Python', 'Typescript']\n"
     ]
    }
   ],
   "source": [
    "# 6. Modify the skills values by adding one or two skills\n",
    "\n",
    "student_dic['skills'].append('Typescript')\n",
    "\n",
    "print(student_dic['skills'])"
   ]
  },
  {
   "cell_type": "code",
   "execution_count": 28,
   "metadata": {},
   "outputs": [
    {
     "name": "stdout",
     "output_type": "stream",
     "text": [
      "dict_keys(['first_name', 'last_name', 'gender', 'age', 'marital status', 'skills', 'country', 'city', 'address'])\n"
     ]
    }
   ],
   "source": [
    "# 7. Get the dictionary keys as a list\n",
    "\n",
    "print(student_dic.keys())"
   ]
  },
  {
   "cell_type": "code",
   "execution_count": 29,
   "metadata": {},
   "outputs": [
    {
     "name": "stdout",
     "output_type": "stream",
     "text": [
      "dict_values(['Salmaan', 'Sulaimon', 'male', 14, 'Single', ['JavaScript', 'React', 'Node', 'MongoDB', 'Python', 'Typescript'], 'nigeria', 'Lagos', {'street': '11, abeokuta street', 'zipcode': '23401'}])\n"
     ]
    }
   ],
   "source": [
    "# 8. Get the dictionary values as a list\n",
    "\n",
    "print(student_dic.values())"
   ]
  },
  {
   "cell_type": "code",
   "execution_count": 30,
   "metadata": {},
   "outputs": [
    {
     "name": "stdout",
     "output_type": "stream",
     "text": [
      "dict_items([('first_name', 'Salmaan'), ('last_name', 'Sulaimon'), ('gender', 'male'), ('age', 14), ('marital status', 'Single'), ('skills', ['JavaScript', 'React', 'Node', 'MongoDB', 'Python', 'Typescript']), ('country', 'nigeria'), ('city', 'Lagos'), ('address', {'street': '11, abeokuta street', 'zipcode': '23401'})])\n"
     ]
    }
   ],
   "source": [
    "# 9. Change the dictionary to a list of tuples using _items()_ method\n",
    "\n",
    "print(student_dic.items())"
   ]
  },
  {
   "cell_type": "code",
   "execution_count": 31,
   "metadata": {},
   "outputs": [
    {
     "name": "stdout",
     "output_type": "stream",
     "text": [
      "{'last_name': 'Sulaimon', 'gender': 'male', 'age': 14, 'marital status': 'Single', 'skills': ['JavaScript', 'React', 'Node', 'MongoDB', 'Python', 'Typescript'], 'country': 'nigeria', 'city': 'Lagos', 'address': {'street': '11, abeokuta street', 'zipcode': '23401'}}\n"
     ]
    }
   ],
   "source": [
    "# 10. Delete one of the items in the dictionary\n",
    "\n",
    "student_dic.pop('first_name')\n",
    "\n",
    "print(student_dic)"
   ]
  },
  {
   "cell_type": "code",
   "execution_count": 32,
   "metadata": {},
   "outputs": [],
   "source": [
    "# 11. Delete one of the dictionaries\n",
    "\n",
    "del student_dic"
   ]
  }
 ],
 "metadata": {
  "kernelspec": {
   "display_name": "Python 3",
   "language": "python",
   "name": "python3"
  },
  "language_info": {
   "codemirror_mode": {
    "name": "ipython",
    "version": 3
   },
   "file_extension": ".py",
   "mimetype": "text/x-python",
   "name": "python",
   "nbconvert_exporter": "python",
   "pygments_lexer": "ipython3",
   "version": "3.12.6"
  }
 },
 "nbformat": 4,
 "nbformat_minor": 2
}

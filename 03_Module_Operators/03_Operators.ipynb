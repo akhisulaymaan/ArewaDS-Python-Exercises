{
 "cells": [
  {
   "cell_type": "markdown",
   "metadata": {},
   "source": [
    "# Day 3: 30 Days of python programming\n",
    "\n",
    "## Operators\n",
    "\n",
    "### Comparison operators\n",
    "### Logical operators"
   ]
  },
  {
   "cell_type": "code",
   "execution_count": 123,
   "metadata": {},
   "outputs": [],
   "source": [
    "# 1. Declare your age as integer variable\n",
    "\n",
    "age = 25"
   ]
  },
  {
   "cell_type": "code",
   "execution_count": 124,
   "metadata": {},
   "outputs": [],
   "source": [
    "# 2. Declare your height as a float variable\n",
    "\n",
    "height = 2.5"
   ]
  },
  {
   "cell_type": "code",
   "execution_count": 148,
   "metadata": {},
   "outputs": [
    {
     "name": "stdout",
     "output_type": "stream",
     "text": [
      "140\n"
     ]
    }
   ],
   "source": [
    "# 3. Declare a variable that store a complex number\n",
    "\n",
    "d = 4\n",
    "complexNumber = 5 * 7 * d\n",
    "\n",
    "print(complexNumber)\n"
   ]
  },
  {
   "cell_type": "code",
   "execution_count": null,
   "metadata": {},
   "outputs": [],
   "source": [
    "# 4. Write a script that prompts the user to enter base and height of the triangle and calculate an area of this triangle (area = 0.5 x b x h).\n",
    "\n",
    "base = input('Enter base:')\n",
    "height = input('Enter height:')\n",
    "area_of_the_triangle = 0.5 * int(base) * int(height)\n",
    "\n",
    "print('The area of the triangle is:', area_of_the_triangle)\n"
   ]
  },
  {
   "cell_type": "code",
   "execution_count": null,
   "metadata": {},
   "outputs": [],
   "source": [
    "# 5. Write a script that prompts the user to enter side a, side b, and side c of the triangle. Calculate the perimeter of the triangle (perimeter = a + b + c).\n",
    "\n",
    "a = input('Enter side a:')\n",
    "b = input('Enter side b:')\n",
    "c = input('Enter side a:')\n",
    "perimetr_of_the_triangle = int(a) + int(b) + int(c) \n",
    "\n",
    "print('The perimetr of the triangle is:', perimetr_of_the_triangle)"
   ]
  },
  {
   "cell_type": "code",
   "execution_count": null,
   "metadata": {},
   "outputs": [],
   "source": [
    "# 6. Get length and width of a rectangle using prompt. Calculate its area (area = length x width) and perimeter (perimeter = 2 x (length + width))\n",
    "\n",
    "length = input('Enter the length:')\n",
    "width = input('Enter width:')\n",
    "\n",
    "perimeter_of_the_triangle = 2 * (int(length) + int(width))\n",
    "\n",
    "print('The perimeter of the triangle is:', perimeter_of_the_triangle)"
   ]
  },
  {
   "cell_type": "code",
   "execution_count": null,
   "metadata": {},
   "outputs": [],
   "source": [
    "# 7. Get radius of a circle using prompt. Calculate the area (area = pi x r x r) and circumference (c = 2 x pi x r) where pi = 3.14.\n",
    "\n",
    "r = input('Enter the radius:')\n",
    "pi = 3.14\n",
    "\n",
    "area = pi * int(r) * int(r) # for area of a circle\n",
    "\n",
    "c = 2 * pi * int(r) # circumference\n",
    "\n",
    "print('The area of the circle is:', area)\n",
    "print('The circumference of the circle is:', c)"
   ]
  },
  {
   "cell_type": "code",
   "execution_count": 126,
   "metadata": {},
   "outputs": [
    {
     "name": "stdout",
     "output_type": "stream",
     "text": [
      "Slope: 2\n",
      "X-intercept 1.0\n",
      "Y-intercept -2\n"
     ]
    }
   ],
   "source": [
    "# 8. Calculate the slope, x-intercept and y-intercept of y = 2x -2\n",
    "\n",
    "# defining the coefficients of the linear equation\n",
    "a = 2\n",
    "b = -2\n",
    "\n",
    "# To calculate the scope\n",
    "slope = a \n",
    "print('Slope:', slope)\n",
    "\n",
    "# To calculate the x_intercept\n",
    "x_intercept = -b / a\n",
    "print('X-intercept', x_intercept)\n",
    "\n",
    "# To calculate the y_intercept\n",
    "y_intercept = b\n",
    "print('Y-intercept', y_intercept)"
   ]
  },
  {
   "cell_type": "code",
   "execution_count": 127,
   "metadata": {},
   "outputs": [
    {
     "name": "stdout",
     "output_type": "stream",
     "text": [
      "Slope (m): 2.0\n",
      "Distance between the two points: 8.94427190999916\n"
     ]
    }
   ],
   "source": [
    "# 9. Slope is (m = y2-y1/x2-x1). Find the slope and [Euclidean distance](https://en.wikipedia.org/wiki/Euclidean_distance#:~:text=In%20mathematics%2C%20the%20Euclidean%20distance,being%20called%20the%20Pythagorean%20distance.) between point (2, 2) and point (6,10) \n",
    "\n",
    "import math\n",
    "\n",
    "# Define the coordinates of the two points\n",
    "x1, y1 = 2, 2\n",
    "x2, y2 = 6, 10\n",
    "\n",
    "#Calculate the slope\n",
    "m = (y2 -y1) / (x2 - x1)\n",
    "print('Slope (m):', m)\n",
    "\n",
    "# Calculate the distance between the two points\n",
    "distance = math.sqrt((x2 - x1)**2 + (y2 -y1)**2)\n",
    "print('Distance between the two points:', distance)"
   ]
  },
  {
   "cell_type": "code",
   "execution_count": 128,
   "metadata": {},
   "outputs": [
    {
     "name": "stdout",
     "output_type": "stream",
     "text": [
      "Both slopes in quuestion 8 and 9 hhave the same answer, which is 2.\n"
     ]
    }
   ],
   "source": [
    "# 10. Compare the slopes in tasks 8 and 9.\n",
    "\n",
    "print('Both slopes in quuestion 8 and 9 hhave the same answer, which is 2.')"
   ]
  },
  {
   "cell_type": "code",
   "execution_count": 146,
   "metadata": {},
   "outputs": [
    {
     "name": "stdout",
     "output_type": "stream",
     "text": [
      "X values: [-3 -2 -1  0  1  2  3]\n",
      "Y values: [np.int64(0), np.int64(1), np.int64(4), np.int64(9), np.int64(16), np.int64(25), np.int64(36)]\n",
      "X value where y becomes 0: -3\n"
     ]
    }
   ],
   "source": [
    "# 11. Calculate the value of y (y = x^2 + 6x + 9). Try to use different x values and figure out at what x value y is going to be 0.\n",
    "\n",
    "import numpy as np\n",
    "\n",
    "# define the function\n",
    "def calculate_y(x):\n",
    "    return x**2 + 6*x + 9\n",
    "\n",
    "# Test the function with different x values\n",
    "x_values = np.array([-3, -2, -1, 0, 1, 2, 3])\n",
    "y_values = [calculate_y(x) for x in x_values]\n",
    "\n",
    "print('X values:', x_values)\n",
    "print('Y values:', y_values)\n",
    "\n",
    "#Find the x value where y becomes 0\n",
    "x_zero = -3\n",
    "print('X value where y becomes 0:', x_zero)"
   ]
  },
  {
   "cell_type": "code",
   "execution_count": 130,
   "metadata": {},
   "outputs": [
    {
     "name": "stdout",
     "output_type": "stream",
     "text": [
      "False\n"
     ]
    }
   ],
   "source": [
    "# 12. Find the length of 'python' and 'dragon' and make a falsy comparison statement.\n",
    "\n",
    "print(len('python') != len('dragon'))"
   ]
  },
  {
   "cell_type": "code",
   "execution_count": 131,
   "metadata": {},
   "outputs": [
    {
     "name": "stdout",
     "output_type": "stream",
     "text": [
      "True\n"
     ]
    }
   ],
   "source": [
    "# 13. Use _and_ operator to check if 'on' is found in both 'python' and 'dragon'\n",
    "\n",
    "print('on' in 'python' and 'on' in 'dragon')"
   ]
  },
  {
   "cell_type": "code",
   "execution_count": 132,
   "metadata": {},
   "outputs": [
    {
     "name": "stdout",
     "output_type": "stream",
     "text": [
      "False\n"
     ]
    }
   ],
   "source": [
    "# 14. _I hope this course is not full of jargon_. Use _in_ operator to check if _jargon_ is in the sentence.\n",
    "\n",
    "print('jargon' not in 'I hope this course is not full of jargon')"
   ]
  },
  {
   "cell_type": "code",
   "execution_count": 133,
   "metadata": {},
   "outputs": [
    {
     "name": "stdout",
     "output_type": "stream",
     "text": [
      "False\n"
     ]
    }
   ],
   "source": [
    "# 15. There is no 'on' in both dragon and python\n",
    "\n",
    "print('on' not in 'dragon' and 'on' not in \"python\")"
   ]
  },
  {
   "cell_type": "code",
   "execution_count": 134,
   "metadata": {},
   "outputs": [
    {
     "name": "stdout",
     "output_type": "stream",
     "text": [
      "6.0\n",
      "<class 'str'>\n"
     ]
    }
   ],
   "source": [
    "# 16. Find the length of the text _python_ and convert the value to float and convert it to string\n",
    "\n",
    "text = float(len('python'))\n",
    "\n",
    "text2 = str(text)\n",
    "\n",
    "print((text2))\n",
    "\n",
    "print(type(text2))"
   ]
  },
  {
   "cell_type": "code",
   "execution_count": 135,
   "metadata": {},
   "outputs": [
    {
     "name": "stdout",
     "output_type": "stream",
     "text": [
      "25 is not even\n"
     ]
    }
   ],
   "source": [
    "# 17. Even numbers are divisible by 2 and the remainder is zero. How do you check if a number is even or not using python?\n",
    "num = int (input ('Enter any number to check if it is even:' ))\n",
    "\n",
    "if (num % 2) == 0: \n",
    "    print (f'{num} is even') \n",
    "else: print (f'{num} is not even')"
   ]
  },
  {
   "cell_type": "code",
   "execution_count": 136,
   "metadata": {},
   "outputs": [
    {
     "name": "stdout",
     "output_type": "stream",
     "text": [
      "True\n"
     ]
    }
   ],
   "source": [
    "# 18. Check if the floor division of 7 by 3 is equal to the int converted value of 2.7.\n",
    "\n",
    "print(7//3 == int(2.7))"
   ]
  },
  {
   "cell_type": "code",
   "execution_count": 137,
   "metadata": {},
   "outputs": [
    {
     "name": "stdout",
     "output_type": "stream",
     "text": [
      "False\n"
     ]
    }
   ],
   "source": [
    "# 19. Check if type of '10' is equal to type of 10\n",
    "\n",
    "print('10' == 10)"
   ]
  },
  {
   "cell_type": "code",
   "execution_count": 140,
   "metadata": {},
   "outputs": [
    {
     "ename": "ValueError",
     "evalue": "invalid literal for int() with base 10: '9.8'",
     "output_type": "error",
     "traceback": [
      "\u001b[1;31m---------------------------------------------------------------------------\u001b[0m",
      "\u001b[1;31mValueError\u001b[0m                                Traceback (most recent call last)",
      "Cell \u001b[1;32mIn[140], line 3\u001b[0m\n\u001b[0;32m      1\u001b[0m \u001b[38;5;66;03m# 20. Check if int('9.8') is equal to 10\u001b[39;00m\n\u001b[1;32m----> 3\u001b[0m \u001b[38;5;28mprint\u001b[39m(\u001b[38;5;28;43mint\u001b[39;49m\u001b[43m(\u001b[49m\u001b[38;5;124;43m'\u001b[39;49m\u001b[38;5;124;43m9.8\u001b[39;49m\u001b[38;5;124;43m'\u001b[39;49m\u001b[43m)\u001b[49m \u001b[38;5;241m==\u001b[39m \u001b[38;5;241m10\u001b[39m)\n",
      "\u001b[1;31mValueError\u001b[0m: invalid literal for int() with base 10: '9.8'"
     ]
    }
   ],
   "source": [
    "# 20. Check if int('9.8') is equal to 10\n",
    "\n",
    "print(int('9.8') == 10)"
   ]
  },
  {
   "cell_type": "code",
   "execution_count": null,
   "metadata": {},
   "outputs": [],
   "source": [
    "# 21. Write a script that prompts the user to enter hours and rate per hour. Calculate pay of the person?\n",
    "\n",
    "'''py\n",
    "Enter hours: 40\n",
    "Enter rate per hour: 28\n",
    "Your weekly earning is 1120\n",
    "'''\n",
    "\n",
    "hours = int(input('Enter your worked hours:'))\n",
    "ratePerHour = int(input('Enter your hour rate:'))\n",
    "\n",
    "yourTotalPay = hours * ratePerHour\n",
    "\n",
    "print('Your pay is', yourTotalPay, 'Naira')"
   ]
  },
  {
   "cell_type": "code",
   "execution_count": null,
   "metadata": {},
   "outputs": [],
   "source": [
    "# 22. Write a script that prompts the user to enter number of years. Calculate the number of seconds a person can live. Assume a person can live hundred years\n",
    "\n",
    "\n",
    "years = int(input('Enter the number of years you have lived:'))\n",
    "seconds = years * 365 * 24 * 60 * 60\n",
    "\n",
    "print('You have lived for', seconds, 'seconds')"
   ]
  },
  {
   "cell_type": "code",
   "execution_count": null,
   "metadata": {},
   "outputs": [],
   "source": [
    "# 23. Write a Python script that displays the following table\n",
    "\n",
    "'''\n",
    "1 1 1 1 1\n",
    "2 1 2 4 8\n",
    "3 1 3 9 27\n",
    "4 1 4 16 64\n",
    "5 1 5 25 125\n",
    "'''\n",
    "\n",
    "for a in range(1, 6):\n",
    "    print(f'{a} {a**0} {a**1} {a**2} {a**3}')"
   ]
  },
  {
   "cell_type": "code",
   "execution_count": null,
   "metadata": {},
   "outputs": [],
   "source": [
    "length = 10\n",
    "width = 20\n",
    "area_of_rectangle = length * width\n",
    "print('Area of rectangle:', area_of_rectangle)"
   ]
  }
 ],
 "metadata": {
  "kernelspec": {
   "display_name": "Python 3",
   "language": "python",
   "name": "python3"
  },
  "language_info": {
   "codemirror_mode": {
    "name": "ipython",
    "version": 3
   },
   "file_extension": ".py",
   "mimetype": "text/x-python",
   "name": "python",
   "nbconvert_exporter": "python",
   "pygments_lexer": "ipython3",
   "version": "3.12.6"
  }
 },
 "nbformat": 4,
 "nbformat_minor": 2
}

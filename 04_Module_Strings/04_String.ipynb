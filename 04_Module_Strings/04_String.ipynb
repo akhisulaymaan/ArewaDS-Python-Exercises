{
 "cells": [
  {
   "cell_type": "markdown",
   "metadata": {},
   "source": [
    "# Module 4\n",
    "## Exercises\n",
    "## Strings"
   ]
  },
  {
   "cell_type": "code",
   "execution_count": 109,
   "metadata": {},
   "outputs": [
    {
     "name": "stdout",
     "output_type": "stream",
     "text": [
      "Thirty Days Of Python\n"
     ]
    }
   ],
   "source": [
    "# 1. Concatenate the string 'Thirty', 'Days', 'Of', 'Python' to a single string, 'Thirty Days Of Python'.\n",
    "\n",
    "thirty = 'Thirty '\n",
    "days = 'Days '\n",
    "of = 'Of '\n",
    "python = 'Python'\n",
    "\n",
    "concatenate = thirty + days + of + python\n",
    "\n",
    "print(concatenate)"
   ]
  },
  {
   "cell_type": "code",
   "execution_count": 110,
   "metadata": {},
   "outputs": [
    {
     "name": "stdout",
     "output_type": "stream",
     "text": [
      "Coding For All\n"
     ]
    }
   ],
   "source": [
    "# 2. Concatenate the string 'Coding', 'For' , 'All' to a single string, 'Coding For All'.\n",
    "\n",
    "coding = 'Coding '\n",
    "forr = 'For '\n",
    "all = 'All'\n",
    "\n",
    "concate = coding + forr + all\n",
    "\n",
    "print(concate)"
   ]
  },
  {
   "cell_type": "code",
   "execution_count": 111,
   "metadata": {},
   "outputs": [],
   "source": [
    "# 3. Declare a variable named company and assign it to an initial value \"Coding For All\".\n",
    "\n",
    "company = 'Coding For All'"
   ]
  },
  {
   "cell_type": "code",
   "execution_count": 112,
   "metadata": {},
   "outputs": [
    {
     "name": "stdout",
     "output_type": "stream",
     "text": [
      "Coding For All\n"
     ]
    }
   ],
   "source": [
    "# 4. Print the variable company using _print()_.\n",
    "\n",
    "print(company)"
   ]
  },
  {
   "cell_type": "code",
   "execution_count": 113,
   "metadata": {},
   "outputs": [
    {
     "name": "stdout",
     "output_type": "stream",
     "text": [
      "14\n"
     ]
    }
   ],
   "source": [
    "# 5. Print the length of the company string using _len()_ method and _print()_.\n",
    "\n",
    "print(len(company))"
   ]
  },
  {
   "cell_type": "code",
   "execution_count": 114,
   "metadata": {},
   "outputs": [
    {
     "name": "stdout",
     "output_type": "stream",
     "text": [
      "CODING FOR ALL\n"
     ]
    }
   ],
   "source": [
    "# 6. Change all the characters to uppercase letters using _upper()_ method.\n",
    "\n",
    "print(company.upper())"
   ]
  },
  {
   "cell_type": "code",
   "execution_count": 115,
   "metadata": {},
   "outputs": [
    {
     "name": "stdout",
     "output_type": "stream",
     "text": [
      "coding for all\n"
     ]
    }
   ],
   "source": [
    "# 7. Change all the characters to lowercase letters using _lower()_ method.\n",
    "\n",
    "print(company.lower())"
   ]
  },
  {
   "cell_type": "code",
   "execution_count": 116,
   "metadata": {},
   "outputs": [
    {
     "name": "stdout",
     "output_type": "stream",
     "text": [
      "Coding for all\n",
      "Coding For All\n",
      "cODING fOR aLL\n"
     ]
    }
   ],
   "source": [
    "# 8. Use capitalize(), title(), swapcase() methods to format the value of the string _Coding For All_.\n",
    "\n",
    "print(company.capitalize())\n",
    "print(company.title())\n",
    "print(company.swapcase())"
   ]
  },
  {
   "cell_type": "code",
   "execution_count": 117,
   "metadata": {},
   "outputs": [
    {
     "name": "stdout",
     "output_type": "stream",
     "text": [
      "For All\n"
     ]
    }
   ],
   "source": [
    "# 9. Cut(slice) out the first word of _Coding For All_ string.\n",
    "\n",
    "first_word = company[7:14]\n",
    "\n",
    "print(first_word)"
   ]
  },
  {
   "cell_type": "code",
   "execution_count": 118,
   "metadata": {},
   "outputs": [
    {
     "name": "stdout",
     "output_type": "stream",
     "text": [
      "0\n",
      "0\n"
     ]
    }
   ],
   "source": [
    "# 10. Check if _Coding For All_ string contains a word Coding using the method index, find or other methods.\n",
    "\n",
    "print(company.index('Coding'))\n",
    "print(company.find('Coding'))"
   ]
  },
  {
   "cell_type": "code",
   "execution_count": 119,
   "metadata": {},
   "outputs": [
    {
     "name": "stdout",
     "output_type": "stream",
     "text": [
      "Python For All\n"
     ]
    }
   ],
   "source": [
    "# 11. Replace the word coding in the string 'Coding For All' to +Python.\n",
    "\n",
    "print(company.replace('Coding', 'Python'))"
   ]
  },
  {
   "cell_type": "code",
   "execution_count": 120,
   "metadata": {},
   "outputs": [
    {
     "name": "stdout",
     "output_type": "stream",
     "text": [
      "Python for All\n"
     ]
    }
   ],
   "source": [
    "# 12. Change Python for Everyone to Python for All using the replace method or other methods.\n",
    "\n",
    "everyone = 'Python for Everyone'\n",
    "\n",
    "print(everyone.replace('Python for Everyone', 'Python for All'))"
   ]
  },
  {
   "cell_type": "code",
   "execution_count": 121,
   "metadata": {},
   "outputs": [
    {
     "name": "stdout",
     "output_type": "stream",
     "text": [
      "['Coding', 'For', 'All']\n"
     ]
    }
   ],
   "source": [
    "# 13. Split the string 'Coding For All' using space as the separator (split()) .\n",
    "\n",
    "print(company.split())"
   ]
  },
  {
   "cell_type": "code",
   "execution_count": 122,
   "metadata": {},
   "outputs": [
    {
     "name": "stdout",
     "output_type": "stream",
     "text": [
      "['Facebook', 'Google', 'Microsoft', 'Apple', 'IBM', 'Oracle', 'Amazon']\n"
     ]
    }
   ],
   "source": [
    "# 14. \"Facebook, Google, Microsoft, Apple, IBM, Oracle, Amazon\" split the string at the comma.\n",
    "\n",
    "split_at_coma = \"Facebook Google Microsoft Apple IBM Oracle Amazon\"\n",
    "\n",
    "print(split_at_coma.split())"
   ]
  },
  {
   "cell_type": "code",
   "execution_count": 123,
   "metadata": {},
   "outputs": [
    {
     "name": "stdout",
     "output_type": "stream",
     "text": [
      "C\n"
     ]
    }
   ],
   "source": [
    "# 15. What is the character at index 0 in the string _Coding For All_.\n",
    "\n",
    "print(company[0])"
   ]
  },
  {
   "cell_type": "code",
   "execution_count": 124,
   "metadata": {},
   "outputs": [
    {
     "name": "stdout",
     "output_type": "stream",
     "text": [
      "l\n"
     ]
    }
   ],
   "source": [
    "# 16. What is the last index of the string _Coding For All_.\n",
    "\n",
    "print(company[-1])"
   ]
  },
  {
   "cell_type": "code",
   "execution_count": 125,
   "metadata": {},
   "outputs": [
    {
     "name": "stdout",
     "output_type": "stream",
     "text": [
      " \n"
     ]
    }
   ],
   "source": [
    "# 17. What character is at index 10 in \"Coding For All\" string.\n",
    "\n",
    "print(company[10]) # space is at index 10"
   ]
  },
  {
   "cell_type": "code",
   "execution_count": 126,
   "metadata": {},
   "outputs": [
    {
     "name": "stdout",
     "output_type": "stream",
     "text": [
      "PFE\n"
     ]
    }
   ],
   "source": [
    "# 18. Create an acronym or an abbreviation for the name 'Python For Everyone'.\n",
    "\n",
    "acronym = ''.join(word[0].upper() for word in everyone.split())\n",
    "\n",
    "print(acronym)"
   ]
  },
  {
   "cell_type": "code",
   "execution_count": 127,
   "metadata": {},
   "outputs": [
    {
     "name": "stdout",
     "output_type": "stream",
     "text": [
      "CFA\n"
     ]
    }
   ],
   "source": [
    "# 19. Create an acronym or an abbreviation for the name 'Coding For All'.\n",
    "\n",
    "abbreviation = ''.join(word[0].upper() for word in company.split())\n",
    "\n",
    "print(abbreviation)"
   ]
  },
  {
   "cell_type": "code",
   "execution_count": 128,
   "metadata": {},
   "outputs": [
    {
     "name": "stdout",
     "output_type": "stream",
     "text": [
      "0\n"
     ]
    }
   ],
   "source": [
    "# 20. Use index to determine the position of the first occurrence of C in Coding For All.\n",
    "\n",
    "print(company.index('C'))\n"
   ]
  },
  {
   "cell_type": "code",
   "execution_count": 129,
   "metadata": {},
   "outputs": [
    {
     "name": "stdout",
     "output_type": "stream",
     "text": [
      "7\n"
     ]
    }
   ],
   "source": [
    "# 21. Use index to determine the position of the first occurrence of F in Coding For All.\n",
    "\n",
    "print(company.index('F'))"
   ]
  },
  {
   "cell_type": "code",
   "execution_count": 130,
   "metadata": {},
   "outputs": [
    {
     "name": "stdout",
     "output_type": "stream",
     "text": [
      "13\n"
     ]
    }
   ],
   "source": [
    "# 22. Use rfind to determine the position of the last occurrence of l in Coding For All People.\n",
    "\n",
    "print(company.rfind('l'))"
   ]
  },
  {
   "cell_type": "code",
   "execution_count": 131,
   "metadata": {},
   "outputs": [
    {
     "name": "stdout",
     "output_type": "stream",
     "text": [
      "31\n"
     ]
    }
   ],
   "source": [
    "# 23. Use index or find to find the position of the first occurrence of the word 'because' in the following sentence: 'You cannot end a sentence with because because because is a conjunction'\n",
    "\n",
    "sentence = 'You cannot end a sentence with because because because is a conjunction'\n",
    "cause = 'because'\n",
    "\n",
    "print(sentence.index(cause))"
   ]
  },
  {
   "cell_type": "code",
   "execution_count": 132,
   "metadata": {},
   "outputs": [
    {
     "name": "stdout",
     "output_type": "stream",
     "text": [
      "47\n"
     ]
    }
   ],
   "source": [
    "# 24. Use rindex to find the position of the last occurrence of the word because in the following sentence: 'You cannot end a sentence with because because because is a conjunction'\n",
    "\n",
    "print(sentence.rindex(cause))"
   ]
  },
  {
   "cell_type": "code",
   "execution_count": 133,
   "metadata": {},
   "outputs": [
    {
     "name": "stdout",
     "output_type": "stream",
     "text": [
      "because because because\n"
     ]
    }
   ],
   "source": [
    "# 25. Slice out the phrase 'because because because' in the following sentence: 'You cannot end a sentence with because because because is a conjunction'\n",
    "\n",
    "cut = sentence[31:54]\n",
    "\n",
    "print(cut)"
   ]
  },
  {
   "cell_type": "code",
   "execution_count": 134,
   "metadata": {},
   "outputs": [
    {
     "name": "stdout",
     "output_type": "stream",
     "text": [
      "31\n"
     ]
    }
   ],
   "source": [
    "# 26. Find the position of the first occurrence of the word 'because' in the following sentence: 'You cannot end a sentence with because because because is a conjunction'\n",
    "\n",
    "sentence = 'You cannot end a sentence with because because because is a conjunction'\n",
    "cause = 'because'\n",
    "\n",
    "print(sentence.find(cause))"
   ]
  },
  {
   "cell_type": "code",
   "execution_count": 135,
   "metadata": {},
   "outputs": [
    {
     "name": "stdout",
     "output_type": "stream",
     "text": [
      "because because because\n"
     ]
    }
   ],
   "source": [
    "# 27. Slice out the phrase 'because because because' in the following sentence: 'You cannot end a sentence with because because because is a conjunction'\n",
    "\n",
    "cut = sentence[31:54]\n",
    "\n",
    "print(cut)"
   ]
  },
  {
   "cell_type": "code",
   "execution_count": 136,
   "metadata": {},
   "outputs": [
    {
     "name": "stdout",
     "output_type": "stream",
     "text": [
      "0\n",
      "0\n"
     ]
    }
   ],
   "source": [
    "# 28. Does '\\'Coding For All' start with a substring _Coding_?\n",
    "\n",
    "sub_string = 'Coding'\n",
    "\n",
    "print(company.index(sub_string))\n",
    "\n",
    "print(company.index('Coding')) \n"
   ]
  },
  {
   "cell_type": "code",
   "execution_count": 137,
   "metadata": {},
   "outputs": [
    {
     "name": "stdout",
     "output_type": "stream",
     "text": [
      "False\n"
     ]
    }
   ],
   "source": [
    "# 29. Does 'Coding For All' end with a substring _coding_?\n",
    "\n",
    "\n",
    "print(company.endswith('coding'))   # False\n"
   ]
  },
  {
   "cell_type": "code",
   "execution_count": 138,
   "metadata": {},
   "outputs": [
    {
     "name": "stdout",
     "output_type": "stream",
     "text": [
      " Coding For All\n"
     ]
    }
   ],
   "source": [
    "# 30. '&nbsp;&nbsp; Coding For All &nbsp;&nbsp;&nbsp; &nbsp;' &nbsp;, remove the left and right trailing spaces in the given string.\n",
    "\n",
    "move = '&nbsp;&nbsp; Coding For All &nbsp;&nbsp;&nbsp; &nbsp;'\n",
    "\n",
    "print(move[12:27])"
   ]
  },
  {
   "cell_type": "code",
   "execution_count": 139,
   "metadata": {},
   "outputs": [
    {
     "name": "stdout",
     "output_type": "stream",
     "text": [
      "False\n",
      "True\n"
     ]
    }
   ],
   "source": [
    "# 31. Which one of the following variables return True when we use the method isidentifier():\n",
    "isTrue  = '30DaysOfPython'\n",
    "isFalse = 'thirty_days_of_python'\n",
    "\n",
    "print(isTrue.isidentifier()) #This returns False\n",
    "print(isFalse.isidentifier()) #This returns True"
   ]
  },
  {
   "cell_type": "code",
   "execution_count": 140,
   "metadata": {},
   "outputs": [
    {
     "name": "stdout",
     "output_type": "stream",
     "text": [
      "Django#Flask#Bottle#Pyramid#Falcon\n",
      "Django Flask Bottle Pyramid Falcon\n"
     ]
    }
   ],
   "source": [
    "# 32. The following list contains the names of some of python libraries: ['Django', 'Flask', 'Bottle', 'Pyramid', 'Falcon']. Join the list with a hash with space string.\n",
    "\n",
    "libraries = ['Django', 'Flask', 'Bottle', 'Pyramid', 'Falcon']\n",
    "\n",
    "joined = '#'.join(libraries)\n",
    "joined2 = ' '.join(libraries)\n",
    "\n",
    "print(joined) \n",
    "print(joined2)"
   ]
  },
  {
   "cell_type": "code",
   "execution_count": 141,
   "metadata": {},
   "outputs": [
    {
     "name": "stdout",
     "output_type": "stream",
     "text": [
      "I am enjoying this challenge. \n",
      "I just wonder what is next.\n"
     ]
    }
   ],
   "source": [
    "# 33. Use the new line escape sequence to separate the following sentences.\n",
    "'''py\n",
    "    I am enjoying this challenge.\n",
    "    I just wonder what is next.\n",
    "'''\n",
    "print('I am enjoying this challenge. \\nI just wonder what is next.')"
   ]
  },
  {
   "cell_type": "code",
   "execution_count": 142,
   "metadata": {},
   "outputs": [
    {
     "name": "stdout",
     "output_type": "stream",
     "text": [
      "Name \tAge\tCountry \tCity\n",
      "Asbeneh\t250\tFinland \tHelsinki\n"
     ]
    }
   ],
   "source": [
    "# 34. Use a tab escape sequence to write the following lines.\n",
    "'''py\n",
    "Name      Age     Country   City\n",
    "Asabeneh  250     Finland   Helsinki\n",
    "'''\n",
    "\n",
    "print('Name \\tAge\\tCountry \\tCity')\n",
    "print('Asbeneh\\t250\\tFinland \\tHelsinki')"
   ]
  },
  {
   "cell_type": "code",
   "execution_count": 143,
   "metadata": {},
   "outputs": [
    {
     "name": "stdout",
     "output_type": "stream",
     "text": [
      "The area of a circle with radius 10 is 314.0 meters square.\n"
     ]
    }
   ],
   "source": [
    "# 35. Use the string formatting method to display the following:\n",
    "\n",
    "'''sh\n",
    "radius = 10\n",
    "area = 3.14 * radius ** 2\n",
    "The area of a circle with radius 10 is 314 meters square.\n",
    "'''\n",
    "radius = 10\n",
    "area = 3.14 * radius ** 2\n",
    "string_format = 'The area of a circle with radius {} is {} meters square.'.format(radius, area)\n",
    "\n",
    "print(string_format)"
   ]
  },
  {
   "cell_type": "code",
   "execution_count": 144,
   "metadata": {},
   "outputs": [
    {
     "name": "stdout",
     "output_type": "stream",
     "text": [
      "8 + 6 = 14\n",
      "8 - 6 = 2\n",
      "8 * 6 = 48\n",
      "8 / 6 = 1.33\n",
      "8 % 6 = 2\n",
      "8 // 6 = 1\n",
      "8 ** 6 = 262144\n"
     ]
    }
   ],
   "source": [
    "# 36. Make the following using string formatting methods:\n",
    "\n",
    "'''sh\n",
    "8 + 6 = 14\n",
    "8 - 6 = 2\n",
    "8 * 6 = 48\n",
    "8 / 6 = 1.33\n",
    "8 % 6 = 2\n",
    "8 // 6 = 1\n",
    "8 ** 6 = 262144\n",
    "'''\n",
    "\n",
    "c = 8\n",
    "d = 6\n",
    "\n",
    "print('{} + {} = {}'.format(c, d, c + d))\n",
    "print('{} - {} = {}'.format(c, d, c - d))\n",
    "print('{} * {} = {}'.format(c, d, c * d))\n",
    "print('{} / {} = {:.2f}'.format(c, d, c / d))\n",
    "print('{} % {} = {}'.format(c, d, c % d))\n",
    "print('{} // {} = {}'.format(c, d, c // d))\n",
    "print('{} ** {} = {}'.format(c, d, c ** d))\n"
   ]
  }
 ],
 "metadata": {
  "kernelspec": {
   "display_name": "Python 3",
   "language": "python",
   "name": "python3"
  },
  "language_info": {
   "codemirror_mode": {
    "name": "ipython",
    "version": 3
   },
   "file_extension": ".py",
   "mimetype": "text/x-python",
   "name": "python",
   "nbconvert_exporter": "python",
   "pygments_lexer": "ipython3",
   "version": "3.12.6"
  }
 },
 "nbformat": 4,
 "nbformat_minor": 2
}
